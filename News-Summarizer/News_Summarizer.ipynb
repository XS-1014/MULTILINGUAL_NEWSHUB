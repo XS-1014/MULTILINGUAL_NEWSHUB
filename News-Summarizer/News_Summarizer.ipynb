{
  "nbformat": 4,
  "nbformat_minor": 0,
  "metadata": {
    "colab": {
      "provenance": [],
      "gpuType": "T4"
    },
    "kernelspec": {
      "name": "python3",
      "display_name": "Python 3"
    },
    "language_info": {
      "name": "python"
    },
    "accelerator": "GPU"
  },
  "cells": [
    {
      "cell_type": "code",
      "execution_count": 20,
      "metadata": {
        "colab": {
          "base_uri": "https://localhost:8080/"
        },
        "id": "jJbXeVqyC8WS",
        "outputId": "3baba8d0-26b2-4225-a99a-8ba23475f42e"
      },
      "outputs": [
        {
          "output_type": "stream",
          "name": "stdout",
          "text": [
            "Requirement already satisfied: nltk in /usr/local/lib/python3.10/dist-packages (3.8.1)\n",
            "Requirement already satisfied: click in /usr/local/lib/python3.10/dist-packages (from nltk) (8.1.7)\n",
            "Requirement already satisfied: joblib in /usr/local/lib/python3.10/dist-packages (from nltk) (1.3.2)\n",
            "Requirement already satisfied: regex>=2021.8.3 in /usr/local/lib/python3.10/dist-packages (from nltk) (2023.6.3)\n",
            "Requirement already satisfied: tqdm in /usr/local/lib/python3.10/dist-packages (from nltk) (4.66.1)\n",
            "Requirement already satisfied: newspaper3k in /usr/local/lib/python3.10/dist-packages (0.2.8)\n",
            "Requirement already satisfied: beautifulsoup4>=4.4.1 in /usr/local/lib/python3.10/dist-packages (from newspaper3k) (4.11.2)\n",
            "Requirement already satisfied: Pillow>=3.3.0 in /usr/local/lib/python3.10/dist-packages (from newspaper3k) (9.4.0)\n",
            "Requirement already satisfied: PyYAML>=3.11 in /usr/local/lib/python3.10/dist-packages (from newspaper3k) (6.0.1)\n",
            "Requirement already satisfied: cssselect>=0.9.2 in /usr/local/lib/python3.10/dist-packages (from newspaper3k) (1.2.0)\n",
            "Requirement already satisfied: lxml>=3.6.0 in /usr/local/lib/python3.10/dist-packages (from newspaper3k) (4.9.4)\n",
            "Requirement already satisfied: nltk>=3.2.1 in /usr/local/lib/python3.10/dist-packages (from newspaper3k) (3.8.1)\n",
            "Requirement already satisfied: requests>=2.10.0 in /usr/local/lib/python3.10/dist-packages (from newspaper3k) (2.31.0)\n",
            "Requirement already satisfied: feedparser>=5.2.1 in /usr/local/lib/python3.10/dist-packages (from newspaper3k) (6.0.11)\n",
            "Requirement already satisfied: tldextract>=2.0.1 in /usr/local/lib/python3.10/dist-packages (from newspaper3k) (5.1.1)\n",
            "Requirement already satisfied: feedfinder2>=0.0.4 in /usr/local/lib/python3.10/dist-packages (from newspaper3k) (0.0.4)\n",
            "Requirement already satisfied: jieba3k>=0.35.1 in /usr/local/lib/python3.10/dist-packages (from newspaper3k) (0.35.1)\n",
            "Requirement already satisfied: python-dateutil>=2.5.3 in /usr/local/lib/python3.10/dist-packages (from newspaper3k) (2.8.2)\n",
            "Requirement already satisfied: tinysegmenter==0.3 in /usr/local/lib/python3.10/dist-packages (from newspaper3k) (0.3)\n",
            "Requirement already satisfied: soupsieve>1.2 in /usr/local/lib/python3.10/dist-packages (from beautifulsoup4>=4.4.1->newspaper3k) (2.5)\n",
            "Requirement already satisfied: six in /usr/local/lib/python3.10/dist-packages (from feedfinder2>=0.0.4->newspaper3k) (1.16.0)\n",
            "Requirement already satisfied: sgmllib3k in /usr/local/lib/python3.10/dist-packages (from feedparser>=5.2.1->newspaper3k) (1.0.0)\n",
            "Requirement already satisfied: click in /usr/local/lib/python3.10/dist-packages (from nltk>=3.2.1->newspaper3k) (8.1.7)\n",
            "Requirement already satisfied: joblib in /usr/local/lib/python3.10/dist-packages (from nltk>=3.2.1->newspaper3k) (1.3.2)\n",
            "Requirement already satisfied: regex>=2021.8.3 in /usr/local/lib/python3.10/dist-packages (from nltk>=3.2.1->newspaper3k) (2023.6.3)\n",
            "Requirement already satisfied: tqdm in /usr/local/lib/python3.10/dist-packages (from nltk>=3.2.1->newspaper3k) (4.66.1)\n",
            "Requirement already satisfied: charset-normalizer<4,>=2 in /usr/local/lib/python3.10/dist-packages (from requests>=2.10.0->newspaper3k) (3.3.2)\n",
            "Requirement already satisfied: idna<4,>=2.5 in /usr/local/lib/python3.10/dist-packages (from requests>=2.10.0->newspaper3k) (3.6)\n",
            "Requirement already satisfied: urllib3<3,>=1.21.1 in /usr/local/lib/python3.10/dist-packages (from requests>=2.10.0->newspaper3k) (2.0.7)\n",
            "Requirement already satisfied: certifi>=2017.4.17 in /usr/local/lib/python3.10/dist-packages (from requests>=2.10.0->newspaper3k) (2023.11.17)\n",
            "Requirement already satisfied: requests-file>=1.4 in /usr/local/lib/python3.10/dist-packages (from tldextract>=2.0.1->newspaper3k) (1.5.1)\n",
            "Requirement already satisfied: filelock>=3.0.8 in /usr/local/lib/python3.10/dist-packages (from tldextract>=2.0.1->newspaper3k) (3.13.1)\n"
          ]
        }
      ],
      "source": [
        "!pip install nltk\n",
        "!pip install newspaper3k"
      ]
    },
    {
      "cell_type": "code",
      "source": [
        "import nltk\n",
        "from newspaper import Article"
      ],
      "metadata": {
        "id": "qlpz2L-NC-Zs"
      },
      "execution_count": 21,
      "outputs": []
    },
    {
      "cell_type": "code",
      "source": [
        "url = \"https://timesofindia.indiatimes.com/world/rest-of-world/japan-plane-collision-was-it-a-textbook-evacuation-or-cautionary-tale/articleshow/106573844.cms\"\n",
        "article = Article(url)"
      ],
      "metadata": {
        "id": "9SclrazhDM5g"
      },
      "execution_count": 22,
      "outputs": []
    },
    {
      "cell_type": "code",
      "source": [
        "\n",
        "# Applying NLP\n",
        "article.download()\n",
        "article.parse()\n",
        "nltk.download('punkt')\n",
        "article.nlp()"
      ],
      "metadata": {
        "colab": {
          "base_uri": "https://localhost:8080/"
        },
        "id": "s5ybPEZzDl8m",
        "outputId": "686f09bf-27e0-4a24-a2e7-2b8db3c3d2ed"
      },
      "execution_count": 23,
      "outputs": [
        {
          "output_type": "stream",
          "name": "stderr",
          "text": [
            "[nltk_data] Downloading package punkt to /root/nltk_data...\n",
            "[nltk_data]   Package punkt is already up-to-date!\n"
          ]
        }
      ]
    },
    {
      "cell_type": "code",
      "source": [
        "article.authors"
      ],
      "metadata": {
        "colab": {
          "base_uri": "https://localhost:8080/"
        },
        "id": "RDkNU806Do-b",
        "outputId": "d6efc2ff-41a1-483f-e150-8e3b5082aa8c"
      },
      "execution_count": 24,
      "outputs": [
        {
          "output_type": "execute_result",
          "data": {
            "text/plain": [
              "['Timesofindia.Com']"
            ]
          },
          "metadata": {},
          "execution_count": 24
        }
      ]
    },
    {
      "cell_type": "code",
      "source": [
        "print(article.publish_date)\n"
      ],
      "metadata": {
        "colab": {
          "base_uri": "https://localhost:8080/"
        },
        "id": "Xi_bnCrpDq1j",
        "outputId": "0598ec11-5d5b-4935-d187-0a587dd83f0b"
      },
      "execution_count": 25,
      "outputs": [
        {
          "output_type": "stream",
          "name": "stdout",
          "text": [
            "None\n"
          ]
        }
      ]
    },
    {
      "cell_type": "code",
      "source": [
        "article.top_image"
      ],
      "metadata": {
        "colab": {
          "base_uri": "https://localhost:8080/",
          "height": 36
        },
        "id": "XaQpnzuODsyq",
        "outputId": "7af05309-204f-4a58-c809-3a90422093ab"
      },
      "execution_count": 26,
      "outputs": [
        {
          "output_type": "execute_result",
          "data": {
            "text/plain": [
              "'https://static.toiimg.com/thumb/msid-106573975,width-1070,height-580,imgsize-61292,resizemode-75,overlay-toi_sw,pt-32,y_pad-40/photo.jpg'"
            ],
            "application/vnd.google.colaboratory.intrinsic+json": {
              "type": "string"
            }
          },
          "metadata": {},
          "execution_count": 26
        }
      ]
    },
    {
      "cell_type": "code",
      "source": [
        "print(article.text)\n"
      ],
      "metadata": {
        "colab": {
          "base_uri": "https://localhost:8080/"
        },
        "id": "FKQ0GLaeDv7B",
        "outputId": "99a19b27-dc69-4b06-d7a1-158dc611e9f5"
      },
      "execution_count": 27,
      "outputs": [
        {
          "output_type": "stream",
          "name": "stdout",
          "text": [
            "Only 17 people suffered slight injuries when fleeing the Airbus 350 via evacuation slides and running for their lives on Tuesday evening as the plane blazed in Tokyo.\n",
            "\n",
            "What happened\n",
            "\n",
            "In the aftermath of a collision between a Japan Airlines passenger jet and a smaller aircraft on a Tokyo runway on Tuesday, the crew impressively managed to evacuate all 367 passengers in just 18 minutes, ensuring everyone's safety.\n",
            "\n",
            "passenger jet and a smaller aircraft on a Tokyo runway on Tuesday, the crew impressively managed to evacuate all 367 passengers in just 18 minutes, ensuring everyone's safety. Officials from Japan's second-largest airline recounted how the crew adeptly adhered to emergency protocols, prioritizing panic control above all. Following the abrupt halt of the Airbus A350 wide-body jet, cabin attendants swiftly urged passengers to stay calm amidst the engulfing bright-orange flames and rapidly spreading smoke in the cabin.\n",
            "\n",
            "Assessing the situation rapidly, the crew performed visual checks to determine the usability of the eight emergency exits. They effectively guided passengers using concise, direct instructions, such as \"leave your luggage\" and \"not this door,\" as per their training.\n",
            "\n",
            "During Tuesday's accident, the aircraft’s announcement system malfunctioned, the company said, so flight attendants had to use megaphones and shout to clear the plane using three emergency slides. Videos posted by passengers showed people covering their mouths with handkerchiefs as they ducked down and moved toward the exits in an orderly way.\n",
            "\n",
            "All slid down the escape chutes within 20 minutes of the landing as smoke filled the cabin of the burning aircraft.\n",
            "\n",
            "Passengers, reflecting on the incident later, acknowledged the efficiency of the evacuation process in potentially saving their lives.\n",
            "\n",
            "28-year-old Tsubasa Sawada, a passenger on the flight, recounted, \"I heard an explosion about 10 minutes after everyone and I got off the plane. I can only say it was a miracle, we could have died if we were late.\"\n",
            "\n",
            "\"Honestly, I thought we wouldn't survive. So I texted my family and friends to say that my plane is burning, right now,\" a woman told broadcaster NHK.\n",
            "\n",
            "But what should have happened: '90-second rule is there for a reason'\n",
            "\n",
            "Current standards by the Federal Aviation Administration and its European counterpart require that passengers can evacuate within 90 seconds under simulated real-life conditions. These tests, a crucial part of the certification process, involve hundreds of volunteers and various simulated obstacles.\n",
            "\n",
            "However, the Japan Airlines crew faced various obstacles during the evacuation, including limited usable exits, high passenger density, poor visibility due to smoke, and technical difficulties with the aircraft and communication systems.\n",
            "\n",
            "The Tokyo evacuation differed significantly from these tests. Only two exits at the front and one at the back were initially deemed safe, one less than used in certification tests. The aircraft, typically used for domestic routes, had a high-density configuration, capable of carrying 391 passengers.\n",
            "\n",
            "Cristian Sutter, a cabin design specialist, noted the role of aircraft design and stringent safety measures in providing more time for evacuation. “The design, certification, materials, and the lessons learned from previous accidents - what those do is buy you more time to evacuate,” he said.\n",
            "\n",
            "“The 90 second rule is there for a reason, because that aircraft can obviously be incinerated in seconds,” Sara Nelson, international president of the Association of Flight Attendants-CWA, a union that represents cabin crew at several airlines, told the Wall Street Journal.\n",
            "\n",
            "What they are saying\n",
            "\n",
            "Officials praised the crew's rapid assessment and decision-making under pressure. With visual checks and clear, direct commands, they efficiently guided passengers to safe exits, disregarding inoperative public announcement systems. Their training in various emergency scenarios proved invaluable, leading to a successful evacuation within 18 minutes of landing.\n",
            "\n",
            "\"Passengers seemed to have followed instructions in a textbook manner,\" Terence Fan, an airline industry expert from Singapore Management University told AFP, with others praising those on board for leaving their cabin bags behind.\n",
            "\n",
            "“Obviously it took a lot more than 90 seconds, but even though it did take longer, it was a very organized and a very orderly evacuation, and it was impressive,” Anthony Brickhouse, an associate professor at Embry-Riddle Aeronautical University and director of its forensic crash lab, told the Wall Street Journal. “This is a great case study.”\n",
            "\n",
            "David Kaminski-Morrow, air transport editor at aviation news website FlightGlobal said: \"I wouldn't personally call the successful evacuation of the JAL flight a 'lucky escape', although the passengers might believe so.\" Instead, he added, an efficient evacuation showed \"what can be achieved by evacuating promptly and efficiently\".\n",
            "\n",
            "90 seconds vs 18 minutes: success story or cautionary tale?\n",
            "\n",
            "According to a Wall Street report, Cristian Sutter, a cabin design expert who spearheaded the British Airways’ A350 interiors project, partly attributed the JAL's successful evacuation to the A350's design and the comprehensive safety measures in place to prevent fire spread. Sutter emphasized the importance of design and past lessons in providing crucial extra time for evacuation.\n",
            "\n",
            "But Sutter acknowledged that the evacuation exceeded standard time requirements, but stressed its effectiveness in saving lives. \"You can look at it two ways: Why did it take so long? 18 minutes is unacceptable; or: Even with 18 minutes taking too long, everyone onboard was saved,\" Sutter added, highlighting the variable nature of fire spread in aircraft incidents.\n",
            "\n",
            "What's next\n",
            "\n",
            "Airbus is assisting in the ongoing investigation. The incident has sparked debate over the adequacy of current evacuation standards and the need for more realistic testing conditions.\n",
            "\n",
            "The Airbus A350, the largest passenger jet currently on the market, experienced its first complete loss by fire with this incident. The event underscores the need to reassess evacuation procedures and safety measures in the evolving landscape of air travel.\n",
            "\n",
            "The A350 is the largest passenger jet currently available, with the version in the incident designed for high-density seating. This was the model's first total loss due to fire since its 2013 debut.\n",
            "\n",
            "The quick and effective evacuation of a Japan Airlines aircraft , which ignited after colliding with a Coast Guard plane during its descent at Tokyo's Haneda airport on Tuesday, showcased the airline's unwavering commitment to safety and the lessons learned from previous tragedies.All 379 individuals on board JAL Flight 516 were successfully evacuated in 18 minutes after landing, even as the aircraft was consumed by flames.While the pilot of the coast guard plane managed to escape, tragically, the other five crew members did not survive.During the incident, only 17 individuals sustained minor injuries while escaping the burning Airbus 350.(With inputs from agencies)\n"
          ]
        }
      ]
    },
    {
      "cell_type": "code",
      "source": [
        "article.summary"
      ],
      "metadata": {
        "colab": {
          "base_uri": "https://localhost:8080/",
          "height": 90
        },
        "id": "SEisj-YQELMp",
        "outputId": "a3ae56c7-883b-44bd-d3c3-3abc18dec408"
      },
      "execution_count": 29,
      "outputs": [
        {
          "output_type": "execute_result",
          "data": {
            "text/plain": [
              "'Passengers, reflecting on the incident later, acknowledged the efficiency of the evacuation process in potentially saving their lives.\\nCristian Sutter, a cabin design specialist, noted the role of aircraft design and stringent safety measures in providing more time for evacuation.\\nTheir training in various emergency scenarios proved invaluable, leading to a successful evacuation within 18 minutes of landing.\\n90 seconds vs 18 minutes: success story or cautionary tale?\\n18 minutes is unacceptable; or: Even with 18 minutes taking too long, everyone onboard was saved,\" Sutter added, highlighting the variable nature of fire spread in aircraft incidents.'"
            ],
            "application/vnd.google.colaboratory.intrinsic+json": {
              "type": "string"
            }
          },
          "metadata": {},
          "execution_count": 29
        }
      ]
    },
    {
      "cell_type": "code",
      "source": [
        "def get_article_summary(url):\n",
        "    # Download and parse the article\n",
        "    article = Article(url)\n",
        "    article.download()\n",
        "    article.parse()\n",
        "\n",
        "    # Apply NLP\n",
        "    nltk.download('punkt')\n",
        "    article.nlp()\n",
        "\n",
        "    # Display relevant information\n",
        "    print(\"Authors:\", article.authors)\n",
        "    print(\"Publish Date:\", article.publish_date)\n",
        "    print(\"Top Image URL:\", article.top_image)\n",
        "    print(\"\\nArticle Text:\\n\", article.text)\n",
        "    print(\"\\nArticle Summary:\\n\", article.summary)"
      ],
      "metadata": {
        "id": "lq68Wu6dEPqc"
      },
      "execution_count": 30,
      "outputs": []
    },
    {
      "cell_type": "code",
      "source": [
        "# Take user input for the URL\n",
        "user_url = input(\"Enter the URL of the article: \")\n",
        "\n",
        "# Call the function with the user-provided URL\n",
        "get_article_summary(user_url)"
      ],
      "metadata": {
        "colab": {
          "base_uri": "https://localhost:8080/"
        },
        "id": "al3f737qWyQi",
        "outputId": "b4485714-def6-471d-c222-2584de6eed5b"
      },
      "execution_count": 31,
      "outputs": [
        {
          "output_type": "stream",
          "name": "stdout",
          "text": [
            "Enter the URL of the article: https://www.japantimes.co.jp/news/2024/01/10/japan/science-health/noto-quake-mechanism/\n",
            "Authors: ['Tomoko Otake']\n",
            "Publish Date: 2024-01-10 00:00:00\n",
            "Top Image URL: https://www.japantimes.co.jp/japantimes/uploads/images/2024/01/10/273764.jpg\n",
            "\n",
            "Article Text:\n",
            " The magnitude 7.6 quake that struck on New Year’s Day was caused by a movement of active faults in the sea off Ishikawa Prefecture's Noto Peninsula that had been dormant for 3,000 to 4,000 years, Japanese experts have said.\n",
            "\n",
            "Researchers told a symposium hosted by Tohoku University on Tuesday that the slipping of a belt of active faults on the Noto Peninsula and the Sea of Japan explained the big jolt — which registered a 7 on the Japanese seismic intensity scale, the maximum level — as well as a tsunami that hit the shores soon afterward.\n",
            "\n",
            "“While each active fault is short, a group of them have formed a band stretching over 100 kilometers,” said Shinji Toda, a seismologist at the university. “The active faults are right beneath the peninsula, and also in the sea, thus causing the strong jolt on the ground and the big tsunami.”\n",
            "\n",
            "Article Summary:\n",
            " The magnitude 7.6 quake that struck on New Year’s Day was caused by a movement of active faults in the sea off Ishikawa Prefecture's Noto Peninsula that had been dormant for 3,000 to 4,000 years, Japanese experts have said.\n",
            "Researchers told a symposium hosted by Tohoku University on Tuesday that the slipping of a belt of active faults on the Noto Peninsula and the Sea of Japan explained the big jolt — which registered a 7 on the Japanese seismic intensity scale, the maximum level — as well as a tsunami that hit the shores soon afterward.\n",
            "“While each active fault is short, a group of them have formed a band stretching over 100 kilometers,” said Shinji Toda, a seismologist at the university.\n",
            "“The active faults are right beneath the peninsula, and also in the sea, thus causing the strong jolt on the ground and the big tsunami.”\n"
          ]
        },
        {
          "output_type": "stream",
          "name": "stderr",
          "text": [
            "[nltk_data] Downloading package punkt to /root/nltk_data...\n",
            "[nltk_data]   Package punkt is already up-to-date!\n"
          ]
        }
      ]
    },
    {
      "cell_type": "code",
      "source": [],
      "metadata": {
        "id": "rrWCCUskW10s"
      },
      "execution_count": null,
      "outputs": []
    }
  ]
}