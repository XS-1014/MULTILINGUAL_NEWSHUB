{
  "nbformat": 4,
  "nbformat_minor": 0,
  "metadata": {
    "colab": {
      "provenance": [],
      "gpuType": "T4"
    },
    "kernelspec": {
      "name": "python3",
      "display_name": "Python 3"
    },
    "language_info": {
      "name": "python"
    },
    "accelerator": "GPU"
  },
  "cells": [
    {
      "cell_type": "code",
      "execution_count": 1,
      "metadata": {
        "colab": {
          "base_uri": "https://localhost:8080/"
        },
        "id": "bhVlI3MI7ORO",
        "outputId": "ac9b1274-053d-4258-ecee-7c88deb29c1d"
      },
      "outputs": [
        {
          "output_type": "stream",
          "name": "stdout",
          "text": [
            "GPU 0: Tesla T4 (UUID: GPU-ad6a2e8b-2b9a-469e-141c-6cb01ac9b8c5)\n"
          ]
        }
      ],
      "source": [
        "!nvidia-smi -L"
      ]
    },
    {
      "cell_type": "code",
      "source": [
        "!pip install langdetect\n",
        "!pip install deep_translator\n"
      ],
      "metadata": {
        "colab": {
          "base_uri": "https://localhost:8080/"
        },
        "id": "HkMyCIyP8E52",
        "outputId": "8498e114-0b37-4fdd-efa9-31852f8ef9a4"
      },
      "execution_count": 2,
      "outputs": [
        {
          "output_type": "stream",
          "name": "stdout",
          "text": [
            "Collecting langdetect\n",
            "  Downloading langdetect-1.0.9.tar.gz (981 kB)\n",
            "\u001b[2K     \u001b[90m━━━━━━━━━━━━━━━━━━━━━━━━━━━━━━━━━━━━━━━━\u001b[0m \u001b[32m981.5/981.5 kB\u001b[0m \u001b[31m8.6 MB/s\u001b[0m eta \u001b[36m0:00:00\u001b[0m\n",
            "\u001b[?25h  Preparing metadata (setup.py) ... \u001b[?25l\u001b[?25hdone\n",
            "Requirement already satisfied: six in /usr/local/lib/python3.10/dist-packages (from langdetect) (1.16.0)\n",
            "Building wheels for collected packages: langdetect\n",
            "  Building wheel for langdetect (setup.py) ... \u001b[?25l\u001b[?25hdone\n",
            "  Created wheel for langdetect: filename=langdetect-1.0.9-py3-none-any.whl size=993225 sha256=b8a341cd05b1067f50ceb58e1f303b48d298d24f19b131e40d9ccb228b6c7588\n",
            "  Stored in directory: /root/.cache/pip/wheels/95/03/7d/59ea870c70ce4e5a370638b5462a7711ab78fba2f655d05106\n",
            "Successfully built langdetect\n",
            "Installing collected packages: langdetect\n",
            "Successfully installed langdetect-1.0.9\n",
            "Collecting deep_translator\n",
            "  Downloading deep_translator-1.11.4-py3-none-any.whl (42 kB)\n",
            "\u001b[2K     \u001b[90m━━━━━━━━━━━━━━━━━━━━━━━━━━━━━━━━━━━━━━━━\u001b[0m \u001b[32m42.3/42.3 kB\u001b[0m \u001b[31m1.3 MB/s\u001b[0m eta \u001b[36m0:00:00\u001b[0m\n",
            "\u001b[?25hRequirement already satisfied: beautifulsoup4<5.0.0,>=4.9.1 in /usr/local/lib/python3.10/dist-packages (from deep_translator) (4.11.2)\n",
            "Requirement already satisfied: requests<3.0.0,>=2.23.0 in /usr/local/lib/python3.10/dist-packages (from deep_translator) (2.31.0)\n",
            "Requirement already satisfied: soupsieve>1.2 in /usr/local/lib/python3.10/dist-packages (from beautifulsoup4<5.0.0,>=4.9.1->deep_translator) (2.5)\n",
            "Requirement already satisfied: charset-normalizer<4,>=2 in /usr/local/lib/python3.10/dist-packages (from requests<3.0.0,>=2.23.0->deep_translator) (3.3.2)\n",
            "Requirement already satisfied: idna<4,>=2.5 in /usr/local/lib/python3.10/dist-packages (from requests<3.0.0,>=2.23.0->deep_translator) (3.6)\n",
            "Requirement already satisfied: urllib3<3,>=1.21.1 in /usr/local/lib/python3.10/dist-packages (from requests<3.0.0,>=2.23.0->deep_translator) (2.0.7)\n",
            "Requirement already satisfied: certifi>=2017.4.17 in /usr/local/lib/python3.10/dist-packages (from requests<3.0.0,>=2.23.0->deep_translator) (2023.11.17)\n",
            "Installing collected packages: deep_translator\n",
            "Successfully installed deep_translator-1.11.4\n"
          ]
        }
      ]
    },
    {
      "cell_type": "markdown",
      "source": [
        "## Languages\n",
        "[`langdetect`](https://pypi.org/project/langdetect/) supports 55 language out of the box [ISO 639-1 codes](https://en.wikipedia.org/wiki/List_of_ISO_639_language_codes)\n",
        "\n",
        "af, ar, bg, bn, ca, cs, cy, da, de, el, en, es, et, fa, fi, fr, gu, he,\n",
        "\n",
        "hi, hr, hu, id, it, ja, kn, ko, lt, lv, mk, ml, mr, ne, nl, no, pa, pl,\n",
        "\n",
        "pt, ro, ru, sk, sl, so, sq, sv, sw, ta, te, th, tl, tr, uk, ur, vi, zh-cn, zh-tw"
      ],
      "metadata": {
        "id": "vcX2FY2M8j9R"
      }
    },
    {
      "cell_type": "markdown",
      "source": [
        "Checking Basic Usage"
      ],
      "metadata": {
        "id": "zOiLDrHe9YeU"
      }
    },
    {
      "cell_type": "code",
      "source": [
        "from langdetect import detect\n",
        "\n",
        "sentence_japanese = \"お元気ですか？\"\n",
        "sentence_chinese = \"你好吗?\"\n",
        "sentence_korean = \"어떻게 지내세요?\"\n"
      ],
      "metadata": {
        "id": "MTfzgQus8JJe"
      },
      "execution_count": 3,
      "outputs": []
    },
    {
      "cell_type": "code",
      "source": [
        "print(detect(sentence_japanese))\n",
        "print(detect(sentence_chinese))\n",
        "print(detect(sentence_korean))\n"
      ],
      "metadata": {
        "colab": {
          "base_uri": "https://localhost:8080/"
        },
        "id": "w35rbCns8enn",
        "outputId": "6c43031f-3769-4c09-cfc8-feadbb1ce286"
      },
      "execution_count": 4,
      "outputs": [
        {
          "output_type": "stream",
          "name": "stdout",
          "text": [
            "ja\n",
            "zh-cn\n",
            "ko\n"
          ]
        }
      ]
    },
    {
      "cell_type": "markdown",
      "source": [
        "For finding out the top probabilities"
      ],
      "metadata": {
        "id": "-Kw2dKa1-ag_"
      }
    },
    {
      "cell_type": "code",
      "source": [
        "from langdetect import detect_langs\n",
        "detect_langs(sentence_japanese)\n"
      ],
      "metadata": {
        "colab": {
          "base_uri": "https://localhost:8080/"
        },
        "id": "Q7YwuMf0-KWh",
        "outputId": "68ae3924-5f0a-494b-a111-7481691135f8"
      },
      "execution_count": 5,
      "outputs": [
        {
          "output_type": "execute_result",
          "data": {
            "text/plain": [
              "[ja:0.9999997955823895]"
            ]
          },
          "metadata": {},
          "execution_count": 5
        }
      ]
    },
    {
      "cell_type": "code",
      "source": [
        "from langdetect import DetectorFactory\n",
        "DetectorFactory.seed = 0"
      ],
      "metadata": {
        "id": "w-GzjnFP-rc_"
      },
      "execution_count": 6,
      "outputs": []
    },
    {
      "cell_type": "markdown",
      "source": [
        "## Deep Translator"
      ],
      "metadata": {
        "id": "uNrv9s9V9WrG"
      }
    },
    {
      "cell_type": "code",
      "source": [
        "from deep_translator import GoogleTranslator\n",
        "print(GoogleTranslator(source='auto', target='en').translate(sentence_japanese))\n",
        "print(GoogleTranslator(source='auto', target='en').translate(sentence_chinese))\n",
        "print(GoogleTranslator(source='auto', target='en').translate(sentence_korean))"
      ],
      "metadata": {
        "colab": {
          "base_uri": "https://localhost:8080/"
        },
        "id": "_2r5T30NAxe3",
        "outputId": "0656658d-5a2b-4733-eba4-95b0098583ab"
      },
      "execution_count": 7,
      "outputs": [
        {
          "output_type": "stream",
          "name": "stdout",
          "text": [
            "How are you?\n",
            "Are you OK?\n",
            "how are you doing?\n"
          ]
        }
      ]
    },
    {
      "cell_type": "code",
      "source": [
        "def detect_language(text):\n",
        "    try:\n",
        "        # Detect the language\n",
        "        lang = detect(text)\n",
        "        return lang\n",
        "    except Exception as e:\n",
        "        print(\"Error detecting language:\", str(e))\n",
        "        return None\n"
      ],
      "metadata": {
        "id": "R9sTHTNN_Epl"
      },
      "execution_count": 8,
      "outputs": []
    },
    {
      "cell_type": "code",
      "source": [
        "def translate_text(text, target_language='en'):\n",
        "    try:\n",
        "        # Detect the source language\n",
        "        source_language = detect_language(text)\n",
        "        if source_language is None:\n",
        "            return None, \"Language detection failed.\"\n",
        "\n",
        "        # Translate the text\n",
        "        translated_text = GoogleTranslator(source=source_language, target=target_language).translate(text)\n",
        "\n",
        "        return translated_text, None\n",
        "    except Exception as e:\n",
        "        return None, str(e)"
      ],
      "metadata": {
        "id": "dhKof0zC65pJ"
      },
      "execution_count": 9,
      "outputs": []
    },
    {
      "cell_type": "markdown",
      "source": [
        "Trying out with an example text"
      ],
      "metadata": {
        "id": "Y9G1RXlQ9jaZ"
      }
    },
    {
      "cell_type": "code",
      "source": [
        "# Example usage\n",
        "japanese_text = \"新しい展覧会が市立美術館で開催され、多くの来場者が訪れました。美術館は日本の伝統的な絵画から現代アートまで幅広い作品を展示し、芸術愛好家たちに大きな感銘を与えました。特に、若手アーティストの作品が注目を集め、地元の文化シーンに新たな息吹をもたらしました。展覧会は数週間にわたり開催され、市民からは高い評価を受けています。\"\n",
        "\n",
        "# Detect language and translate\n",
        "translated_text, error_message = translate_text(japanese_text, target_language='en')\n",
        "\n",
        "if translated_text is not None:\n",
        "    print(f\"Original Text ({detect_language(japanese_text)}):\\n{ japanese_text}\\n\")\n",
        "    print(f\"Translated Text (English):\\n{translated_text}\")\n",
        "else:\n",
        "    print(\"Translation failed. Error:\", error_message)\n"
      ],
      "metadata": {
        "colab": {
          "base_uri": "https://localhost:8080/"
        },
        "id": "a2QZ3NuB66lT",
        "outputId": "567be299-66e3-45f3-d366-cd3651048711"
      },
      "execution_count": 13,
      "outputs": [
        {
          "output_type": "stream",
          "name": "stdout",
          "text": [
            "Original Text (ja):\n",
            "新しい展覧会が市立美術館で開催され、多くの来場者が訪れました。美術館は日本の伝統的な絵画から現代アートまで幅広い作品を展示し、芸術愛好家たちに大きな感銘を与えました。特に、若手アーティストの作品が注目を集め、地元の文化シーンに新たな息吹をもたらしました。展覧会は数週間にわたり開催され、市民からは高い評価を受けています。\n",
            "\n",
            "Translated Text (English):\n",
            "A new exhibition was held at the City Museum and attracted many visitors. The museum exhibited a wide range of works, from traditional Japanese paintings to contemporary art, and greatly impressed art lovers. In particular, the works of young artists attracted attention and brought new life to the local cultural scene. The exhibition has been held for several weeks and has received high praise from the public.\n"
          ]
        }
      ]
    },
    {
      "cell_type": "markdown",
      "source": [
        "### Translator System"
      ],
      "metadata": {
        "id": "vGX0eXgB8wcc"
      }
    },
    {
      "cell_type": "code",
      "source": [
        "def predict_and_translate_any_to_en():\n",
        "    user_input = input(\"Enter news article in any language\")\n",
        "    translated_text, error_message = translate_text(user_input, target_language='en')\n",
        "\n",
        "    if translated_text is not None:\n",
        "        print(f\"\\nOriginal Text ({detect_language(user_input)}):\\n{user_input}\\n\")\n",
        "        print(f\"Translated Text (English):\\n{translated_text}\")\n",
        "    else:\n",
        "        print(\"Translation failed. Error:\", error_message)\n",
        "\n",
        "# Example usage\n",
        "predict_and_translate_any_to_en()\n"
      ],
      "metadata": {
        "colab": {
          "base_uri": "https://localhost:8080/"
        },
        "id": "ZiVeRbPM8Ys_",
        "outputId": "81e19420-c5fb-4a42-83d3-c0be81d3f752"
      },
      "execution_count": 16,
      "outputs": [
        {
          "output_type": "stream",
          "name": "stdout",
          "text": [
            "Enter news article in any language新しい展覧会が市立美術館で開催され、多くの来場者が訪れました。美術館は日本の伝統的な絵画から現代アートまで幅広い作品を展示し、芸術愛好家たちに大きな感銘を与えました。特に、若手アーティストの作品が注目を集め、地元の文化シーンに新たな息吹をもたらしました。展覧会は数週間にわたり開催され、市民からは高い評価を受けています。\n",
            "\n",
            "Original Text (ja):\n",
            "新しい展覧会が市立美術館で開催され、多くの来場者が訪れました。美術館は日本の伝統的な絵画から現代アートまで幅広い作品を展示し、芸術愛好家たちに大きな感銘を与えました。特に、若手アーティストの作品が注目を集め、地元の文化シーンに新たな息吹をもたらしました。展覧会は数週間にわたり開催され、市民からは高い評価を受けています。\n",
            "\n",
            "Translated Text (English):\n",
            "A new exhibition was held at the City Museum and attracted many visitors. The museum exhibited a wide range of works, from traditional Japanese paintings to contemporary art, and greatly impressed art lovers. In particular, the works of young artists attracted attention and brought new life to the local cultural scene. The exhibition has been held for several weeks and has received high praise from the public.\n"
          ]
        }
      ]
    },
    {
      "cell_type": "markdown",
      "source": [
        "Sample Function to convert any language into japanese"
      ],
      "metadata": {
        "id": "7kP3tuvJ-yog"
      }
    },
    {
      "cell_type": "code",
      "source": [
        "def predict_and_translate_any_to_ja():\n",
        "    user_input = input(\"Enter news article in any language: \")\n",
        "    translated_text, error_message = translate_text(user_input, target_language='ja')\n",
        "\n",
        "    if translated_text is not None:\n",
        "        print(f\"\\nOriginal Text ({detect_language(user_input)}):\\n{user_input}\\n\")\n",
        "        print(f\"Translated Text (Japanese):\\n{translated_text}\")\n",
        "    else:\n",
        "        print(\"Translation failed. Error:\", error_message)\n",
        "\n",
        "# Example usage\n",
        "predict_and_translate_any_to_ja()"
      ],
      "metadata": {
        "colab": {
          "base_uri": "https://localhost:8080/"
        },
        "id": "SlOX_w6b7Bkt",
        "outputId": "851d57f5-79de-43bf-d1e5-320289806a84"
      },
      "execution_count": 18,
      "outputs": [
        {
          "output_type": "stream",
          "name": "stdout",
          "text": [
            "Enter news article in any language: The City Museum recently hosted a diverse art exhibition, featuring everything from traditional Japanese paintings to contemporary masterpieces. The showcase, spanning weeks, celebrated both established and emerging artists. The spotlight shone brightly on young talents, injecting new life into the local arts scene.  Visitors praised the museum's efforts, applauding the seamless blend of classic and modern art. The exhibition's success underscores the city's vibrant cultural landscape, with the museum positioned as a key player in fostering artistic appreciation. As the event concludes, anticipation grows for more enriching cultural experiences in the future.\n",
            "\n",
            "Original Text (en):\n",
            "The City Museum recently hosted a diverse art exhibition, featuring everything from traditional Japanese paintings to contemporary masterpieces. The showcase, spanning weeks, celebrated both established and emerging artists. The spotlight shone brightly on young talents, injecting new life into the local arts scene.  Visitors praised the museum's efforts, applauding the seamless blend of classic and modern art. The exhibition's success underscores the city's vibrant cultural landscape, with the museum positioned as a key player in fostering artistic appreciation. As the event concludes, anticipation grows for more enriching cultural experiences in the future.\n",
            "\n",
            "Translated Text (Japanese):\n",
            "市立博物館は最近、伝統的な日本画から現代の傑作までを展示する多様な美術展を開催しました。ショーケースは数週間にわたって行われ、著名なアーティストと新進気鋭のアーティストの両方を称賛しました。若い才能にスポットライトが明るく当たり、地元の芸術シーンに新たな命を吹き込みました。訪問者は美術館の努力を称賛し、古典芸術と現代美術のシームレスな融合を称賛した。この展覧会の成功は、美術館が芸術的鑑賞を促進する上で重要な役割を果たしているこの都市の活気に満ちた文化的景観を強調しています。イベントが終了すると、今後さらに充実した文化体験が期待できます。\n"
          ]
        }
      ]
    },
    {
      "cell_type": "code",
      "source": [],
      "metadata": {
        "id": "5fXfN5az-RjE"
      },
      "execution_count": null,
      "outputs": []
    }
  ]
}